{
  "nbformat": 4,
  "nbformat_minor": 0,
  "metadata": {
    "colab": {
      "name": "notebook_tf_transform.ipynb",
      "provenance": []
    },
    "kernelspec": {
      "display_name": "Python 3",
      "language": "python",
      "name": "python3"
    },
    "language_info": {
      "codemirror_mode": {
        "name": "ipython",
        "version": 3
      },
      "file_extension": ".py",
      "mimetype": "text/x-python",
      "name": "python",
      "nbconvert_exporter": "python",
      "pygments_lexer": "ipython3",
      "version": "3.6.6"
    },
    "accelerator": "GPU"
  },
  "cells": [
    {
      "cell_type": "markdown",
      "metadata": {
        "id": "tpmc-39De3Fm"
      },
      "source": [
        "# WHY FAKE NEWS IS A PROBLEM?\n",
        "**Fake news refers to misinformation, disinformation or mal-information which is spread through word of mouth and traditional media and more recently through digital forms of communication such as edited videos, memes, unverified advertisements and social media propagated rumours.Fake news spread through social media has become a serious problem, with the potential of it resulting in mob violence, suicides etc as a result of misinformation circulated on social media.**\n",
        "![image.png](attachment:image.png)"
      ]
    },
    {
      "cell_type": "markdown",
      "metadata": {
        "id": "TanaiRJxe3Fq"
      },
      "source": [
        "# BRIEF DESCRIPTION OF DATASET\n",
        "**This dataset consists of about 40000 articles consisting of fake as well as real news. Our aim is train our model so that it can correctly predict whether a given piece of news is real or fake.The fake and real news data is given in two separate datasets with each dataset consisting around 20000 articles each.**"
      ]
    },
    {
      "cell_type": "code",
      "metadata": {
        "id": "JkyuGUx_e3Fs"
      },
      "source": [
        "# This Python 3 environment comes with many helpful analytics libraries installed\n",
        "# It is defined by the kaggle/python docker image: https://github.com/kaggle/docker-python\n",
        "# For example, here's several helpful packages to load in \n",
        "\n",
        "import numpy as np # linear algebra\n",
        "import pandas as pd # data processing, CSV file I/O (e.g. pd.read_csv)"
      ],
      "execution_count": 1,
      "outputs": []
    },
    {
      "cell_type": "code",
      "metadata": {
        "colab": {
          "base_uri": "https://localhost:8080/"
        },
        "id": "RWSJpsyKqHjH",
        "outputId": "fd038e8f-4ae5-4418-f0f1-d31622a8e57d"
      },
      "source": [
        "from google.colab import drive\n",
        "drive.mount('/content/drive')"
      ],
      "execution_count": 2,
      "outputs": [
        {
          "output_type": "stream",
          "text": [
            "Mounted at /content/drive\n"
          ],
          "name": "stdout"
        }
      ]
    },
    {
      "cell_type": "code",
      "metadata": {
        "colab": {
          "base_uri": "https://localhost:8080/"
        },
        "id": "hLQM2IdHfV5q",
        "outputId": "5bee6d84-9417-49c7-9a33-ccf95be03b59"
      },
      "source": [
        "!ls\n",
        "%cd /content/drive/My Drive/Colab Notebooks/projet_sopra/input/fake-and-real-news-dataset"
      ],
      "execution_count": 3,
      "outputs": [
        {
          "output_type": "stream",
          "text": [
            "drive  sample_data\n",
            "/content/drive/My Drive/Colab Notebooks/projet_sopra/input/fake-and-real-news-dataset\n"
          ],
          "name": "stdout"
        }
      ]
    },
    {
      "cell_type": "code",
      "metadata": {
        "colab": {
          "base_uri": "https://localhost:8080/"
        },
        "id": "TtFsswgHfvfG",
        "outputId": "5b02cfb6-6fb3-4c83-bf07-060621de2ab8"
      },
      "source": [
        "%cd fake-and-real-news-dataset/"
      ],
      "execution_count": 4,
      "outputs": [
        {
          "output_type": "stream",
          "text": [
            "[Errno 2] No such file or directory: 'fake-and-real-news-dataset/'\n",
            "/content/drive/My Drive/Colab Notebooks/projet_sopra/input/fake-and-real-news-dataset\n"
          ],
          "name": "stdout"
        }
      ]
    },
    {
      "cell_type": "markdown",
      "metadata": {
        "id": "ZKA79zTZe3F6"
      },
      "source": [
        "# LOADING THE NECESSARY LIBRARIES"
      ]
    },
    {
      "cell_type": "code",
      "metadata": {
        "id": "iCdX3tI3e3F8"
      },
      "source": [
        "import numpy as np\n",
        "import pandas as pd\n",
        "import seaborn as sns\n",
        "import matplotlib.pyplot as plt\n",
        "import nltk\n",
        "from sklearn.preprocessing import LabelBinarizer\n",
        "from nltk.corpus import stopwords\n",
        "from nltk.stem.porter import PorterStemmer\n",
        "from wordcloud import WordCloud,STOPWORDS\n",
        "from nltk.stem import WordNetLemmatizer\n",
        "from nltk.tokenize import word_tokenize,sent_tokenize\n",
        "from bs4 import BeautifulSoup\n",
        "import re,string,unicodedata\n",
        "from keras.preprocessing import text, sequence\n",
        "from sklearn.metrics import classification_report,confusion_matrix,accuracy_score\n",
        "from sklearn.model_selection import train_test_split\n",
        "from string import punctuation\n",
        "from nltk import pos_tag\n",
        "from nltk.corpus import wordnet\n",
        "import keras\n",
        "from keras.models import Sequential\n",
        "from keras.layers import Dense,Embedding,LSTM,Dropout\n",
        "from keras.callbacks import ReduceLROnPlateau\n",
        "import tensorflow as tf"
      ],
      "execution_count": 5,
      "outputs": []
    },
    {
      "cell_type": "markdown",
      "metadata": {
        "id": "OWqyQbXWe3GF"
      },
      "source": [
        "# IMPORTING THE DATASET"
      ]
    },
    {
      "cell_type": "markdown",
      "metadata": {
        "id": "vIMQql4Ee3GR"
      },
      "source": [
        "# DATA VISUALIZATION AND PREPROCESSING"
      ]
    },
    {
      "cell_type": "markdown",
      "metadata": {
        "id": "MrITcogj7mxi"
      },
      "source": [
        "**Import data in tf dataset**"
      ]
    },
    {
      "cell_type": "code",
      "metadata": {
        "id": "Am-njqT-NPTF"
      },
      "source": [
        "true_dataset = tf.data.experimental.CsvDataset(filenames = ['True.csv'], record_defaults = [tf.string, tf.string], select_cols=[0,1], header=True)\r\n",
        "false_dataset = tf.data.experimental.CsvDataset(filenames = ['Fake.csv'], record_defaults = [tf.string, tf.string], select_cols=[0,1], header=True)"
      ],
      "execution_count": 6,
      "outputs": []
    },
    {
      "cell_type": "code",
      "metadata": {
        "colab": {
          "base_uri": "https://localhost:8080/"
        },
        "id": "KbiFBPu0sgL3",
        "outputId": "3dcd9e0a-03f8-4a40-9099-0b1f9c1ef6b3"
      },
      "source": [
        "for idx, row in enumerate(true_dataset):\r\n",
        "    \r\n",
        "    if idx == 3:\r\n",
        "      print (row)\r\n",
        "      break"
      ],
      "execution_count": 7,
      "outputs": [
        {
          "output_type": "stream",
          "text": [
            "(<tf.Tensor: shape=(), dtype=string, numpy=b'FBI Russia probe helped by Australian diplomat tip-off: NYT'>, <tf.Tensor: shape=(), dtype=string, numpy=b'WASHINGTON (Reuters) - Trump campaign adviser George Papadopoulos told an Australian diplomat in May 2016 that Russia had political dirt on Democratic presidential candidate Hillary Clinton, the New York Times reported on Saturday. The conversation between Papadopoulos and the diplomat, Alexander Downer, in London was a driving factor behind the FBI\\xe2\\x80\\x99s decision to open a counter-intelligence investigation of Moscow\\xe2\\x80\\x99s contacts with the Trump campaign, the Times reported. Two months after the meeting, Australian officials passed the information that came from Papadopoulos to their American counterparts when leaked Democratic emails began appearing online, according to the newspaper, which cited four current and former U.S. and foreign officials. Besides the information from the Australians, the probe by the Federal Bureau of Investigation was also propelled by intelligence from other friendly governments, including the British and Dutch, the Times said. Papadopoulos, a Chicago-based international energy lawyer, pleaded guilty on Oct. 30 to lying to FBI agents about contacts with people who claimed to have ties to top Russian officials. It was the first criminal charge alleging links between the Trump campaign and Russia. The White House has played down the former aide\\xe2\\x80\\x99s campaign role, saying it was \\xe2\\x80\\x9cextremely limited\\xe2\\x80\\x9d and that any actions he took would have been on his own. The New York Times, however, reported that Papadopoulos helped set up a meeting between then-candidate Donald Trump and Egyptian President Abdel Fattah al-Sisi and edited the outline of Trump\\xe2\\x80\\x99s first major foreign policy speech in April 2016. The federal investigation, which is now being led by Special Counsel Robert Mueller, has hung over Trump\\xe2\\x80\\x99s White House since he took office almost a year ago. Some Trump allies have recently accused Mueller\\xe2\\x80\\x99s team of being biased against the Republican president. Lawyers for Papadopoulos did not immediately respond to requests by Reuters for comment. Mueller\\xe2\\x80\\x99s office declined to comment. Trump\\xe2\\x80\\x99s White House attorney, Ty Cobb, declined to comment on the New York Times report. \\xe2\\x80\\x9cOut of respect for the special counsel and his process, we are not commenting on matters such as this,\\xe2\\x80\\x9d he said in a statement. Mueller has charged four Trump associates, including Papadopoulos, in his investigation. Russia has denied interfering in the U.S. election and Trump has said there was no collusion between his campaign and Moscow. '>)\n"
          ],
          "name": "stdout"
        }
      ]
    },
    {
      "cell_type": "markdown",
      "metadata": {
        "id": "JEfVKurc7uva"
      },
      "source": [
        "**Join text and title**"
      ]
    },
    {
      "cell_type": "code",
      "metadata": {
        "id": "d9epNz60lzli"
      },
      "source": [
        "def preprocess_join_sentence(s1, s2):\r\n",
        "    ret = tf.strings.reduce_join([s1, s2],separator=\" \", axis=-1)\r\n",
        "    return ret\r\n",
        "\r\n",
        "true_dataset = true_dataset.map(preprocess_join_sentence)\r\n",
        "false_dataset = false_dataset.map(preprocess_join_sentence)"
      ],
      "execution_count": 8,
      "outputs": []
    },
    {
      "cell_type": "code",
      "metadata": {
        "colab": {
          "base_uri": "https://localhost:8080/"
        },
        "id": "skppFInZbh5I",
        "outputId": "e858b6ee-75ef-4b76-8380-3fa07247a15b"
      },
      "source": [
        "for idx, row in enumerate(true_dataset):\r\n",
        "  if idx == 3:\r\n",
        "    print (row)\r\n",
        "    break"
      ],
      "execution_count": 9,
      "outputs": [
        {
          "output_type": "stream",
          "text": [
            "tf.Tensor(b'FBI Russia probe helped by Australian diplomat tip-off: NYT WASHINGTON (Reuters) - Trump campaign adviser George Papadopoulos told an Australian diplomat in May 2016 that Russia had political dirt on Democratic presidential candidate Hillary Clinton, the New York Times reported on Saturday. The conversation between Papadopoulos and the diplomat, Alexander Downer, in London was a driving factor behind the FBI\\xe2\\x80\\x99s decision to open a counter-intelligence investigation of Moscow\\xe2\\x80\\x99s contacts with the Trump campaign, the Times reported. Two months after the meeting, Australian officials passed the information that came from Papadopoulos to their American counterparts when leaked Democratic emails began appearing online, according to the newspaper, which cited four current and former U.S. and foreign officials. Besides the information from the Australians, the probe by the Federal Bureau of Investigation was also propelled by intelligence from other friendly governments, including the British and Dutch, the Times said. Papadopoulos, a Chicago-based international energy lawyer, pleaded guilty on Oct. 30 to lying to FBI agents about contacts with people who claimed to have ties to top Russian officials. It was the first criminal charge alleging links between the Trump campaign and Russia. The White House has played down the former aide\\xe2\\x80\\x99s campaign role, saying it was \\xe2\\x80\\x9cextremely limited\\xe2\\x80\\x9d and that any actions he took would have been on his own. The New York Times, however, reported that Papadopoulos helped set up a meeting between then-candidate Donald Trump and Egyptian President Abdel Fattah al-Sisi and edited the outline of Trump\\xe2\\x80\\x99s first major foreign policy speech in April 2016. The federal investigation, which is now being led by Special Counsel Robert Mueller, has hung over Trump\\xe2\\x80\\x99s White House since he took office almost a year ago. Some Trump allies have recently accused Mueller\\xe2\\x80\\x99s team of being biased against the Republican president. Lawyers for Papadopoulos did not immediately respond to requests by Reuters for comment. Mueller\\xe2\\x80\\x99s office declined to comment. Trump\\xe2\\x80\\x99s White House attorney, Ty Cobb, declined to comment on the New York Times report. \\xe2\\x80\\x9cOut of respect for the special counsel and his process, we are not commenting on matters such as this,\\xe2\\x80\\x9d he said in a statement. Mueller has charged four Trump associates, including Papadopoulos, in his investigation. Russia has denied interfering in the U.S. election and Trump has said there was no collusion between his campaign and Moscow. ', shape=(), dtype=string)\n"
          ],
          "name": "stdout"
        }
      ]
    },
    {
      "cell_type": "markdown",
      "metadata": {
        "id": "Jvw_0r_W2mh2"
      },
      "source": [
        "### Add labels to dataset"
      ]
    },
    {
      "cell_type": "code",
      "metadata": {
        "id": "i_lo08LlZczU"
      },
      "source": [
        "cat_true = tf.data.Dataset.from_tensor_slices(np.ones(len(list(true_dataset)), dtype=int))\r\n",
        "cat_false = tf.data.Dataset.from_tensor_slices(np.zeros(len(list(false_dataset)), dtype=int))"
      ],
      "execution_count": 10,
      "outputs": []
    },
    {
      "cell_type": "code",
      "metadata": {
        "id": "fj09KwCJZjdu"
      },
      "source": [
        "true_dataset = tf.data.Dataset.zip((true_dataset, cat_true))\r\n",
        "false_dataset = tf.data.Dataset.zip((false_dataset, cat_false))"
      ],
      "execution_count": 11,
      "outputs": []
    },
    {
      "cell_type": "code",
      "metadata": {
        "id": "ggohx0giaB8c"
      },
      "source": [
        "full_dataset = false_dataset.concatenate(true_dataset)"
      ],
      "execution_count": 34,
      "outputs": []
    },
    {
      "cell_type": "code",
      "metadata": {
        "colab": {
          "base_uri": "https://localhost:8080/"
        },
        "id": "DqCBNRny4Tne",
        "outputId": "df1a890b-f869-419c-c239-fb55c9a22463"
      },
      "source": [
        "for idx, row in enumerate(full_dataset):\r\n",
        "  if idx == 3:\r\n",
        "    print (row)\r\n",
        "    break"
      ],
      "execution_count": 13,
      "outputs": [
        {
          "output_type": "stream",
          "text": [
            "(<tf.Tensor: shape=(), dtype=string, numpy=b' Trump Is So Obsessed He Even Has Obama\\xe2\\x80\\x99s Name Coded Into His Website (IMAGES) On Christmas day, Donald Trump announced that he would  be back to work  the following day, but he is golfing for the fourth day in a row. The former reality show star blasted former President Barack Obama for playing golf and now Trump is on track to outpace the number of golf games his predecessor played.Updated my tracker of Trump s appearances at Trump properties.71 rounds of golf including today s. At this pace, he ll pass Obama s first-term total by July 24 next year. https://t.co/Fg7VacxRtJ pic.twitter.com/5gEMcjQTbH  Philip Bump (@pbump) December 29, 2017 That makes what a Washington Post reporter discovered on Trump s website really weird, but everything about this administration is bizarre AF. The coding contained a reference to Obama and golf:  Unlike Obama, we are working to fix the problem   and not on the golf course.  However, the coding wasn t done correctly.The website of Donald Trump, who has spent several days in a row at the golf course, is coded to serve up the following message in the event of an internal server error: https://t.co/zrWpyMXRcz pic.twitter.com/wiQSQNNzw0  Christopher Ingraham (@_cingraham) December 28, 2017That snippet of code appears to be on all https://t.co/dkhw0AlHB4 pages, which the footer says is paid for by the RNC? pic.twitter.com/oaZDT126B3  Christopher Ingraham (@_cingraham) December 28, 2017It s also all over https://t.co/ayBlGmk65Z. As others have noted in this thread, this is weird code and it s not clear it would ever actually display, but who knows.  Christopher Ingraham (@_cingraham) December 28, 2017After the coding was called out, the reference to Obama was deleted.UPDATE: The golf error message has been removed from the Trump and GOP websites. They also fixed the javascript  =  vs  ==  problem. Still not clear when these messages would actually display, since the actual 404 (and presumably 500) page displays a different message pic.twitter.com/Z7dmyQ5smy  Christopher Ingraham (@_cingraham) December 29, 2017That suggests someone at either RNC or the Trump admin is sensitive enough to Trump s golf problem to make this issue go away quickly once people noticed. You have no idea how much I d love to see the email exchange that led us here.  Christopher Ingraham (@_cingraham) December 29, 2017 The code was f-cked up.The best part about this is that they are using the  =  (assignment) operator which means that bit of code will never get run. If you look a few lines up  errorCode  will always be  404          (@tw1trsux) December 28, 2017trump s coders can t code. Nobody is surprised.  Tim Peterson (@timrpeterson) December 28, 2017Donald Trump is obsessed with Obama that his name was even in the coding of his website while he played golf again.Photo by Joe Raedle/Getty Images.'>, <tf.Tensor: shape=(), dtype=int64, numpy=0>)\n"
          ],
          "name": "stdout"
        }
      ]
    },
    {
      "cell_type": "markdown",
      "metadata": {
        "id": "o2eM0q3174EE"
      },
      "source": [
        "**Formate sentences**"
      ]
    },
    {
      "cell_type": "code",
      "metadata": {
        "id": "Ttqepq_OhNe3",
        "colab": {
          "base_uri": "https://localhost:8080/"
        },
        "outputId": "a8357d47-6759-4941-f6be-b99e717c5eab"
      },
      "source": [
        "from nltk.corpus import stopwords\r\n",
        "nltk.download('stopwords')\r\n",
        "\r\n",
        "def rm_stopwords(text):\r\n",
        "  stop = set(stopwords.words('english'))\r\n",
        "  nltk.download('punkt')\r\n",
        "\r\n",
        "  stop = list(stop)\r\n",
        "  ret = tf.strings.strip(text)\r\n",
        "\r\n",
        "  for i in stop:\r\n",
        "    ret = tf.strings.regex_replace(ret, '\\\\b'+i+'\\\\b', '')\r\n",
        "  # Remove adding spaces\r\n",
        "\r\n",
        "  ret = tf.strings.regex_replace(ret, ' +', ' ')\r\n",
        "  return ret\r\n",
        "\r\n",
        "def preprocess_sentence(sentence, label):\r\n",
        "  ret = tf.strings.lower(sentence) # to lower\r\n",
        "\r\n",
        "  ret = tf.strings.strip(ret) # create list of words \r\n",
        "\r\n",
        "  # Denoise text\r\n",
        "  ret = tf.strings.regex_replace(ret, r'[^\\x00-\\x7f]','') # Removing adding chars to decode in UTF-8\r\n",
        "  ret = tf.strings.regex_replace(ret, '<[^<]+?>', '') # Removing HTML chars\r\n",
        "  ret = tf.strings.regex_replace(ret, '\\[[^]]*\\]', '') # Removing the square brackets\r\n",
        "  ret = tf.strings.regex_replace(ret, 'http\\S+', '') # Removing URL's\r\n",
        "\r\n",
        "  ret = tf.strings.regex_replace(ret, '!\"#$%&(),-./:;<=>?@\\t\\n', '') # Keras tokenizer filter\r\n",
        "  ret = tf.strings.regex_replace(ret, '[^A-Za-z0-9]+', ' ') # remove ponctuation\r\n",
        "\r\n",
        "  ret = rm_stopwords(ret) # Removing stopwords\r\n",
        "\r\n",
        "  return ret, label\r\n",
        "\r\n",
        "full_dataset = full_dataset.map(preprocess_sentence)"
      ],
      "execution_count": 35,
      "outputs": [
        {
          "output_type": "stream",
          "text": [
            "[nltk_data] Downloading package stopwords to /root/nltk_data...\n",
            "[nltk_data]   Package stopwords is already up-to-date!\n",
            "[nltk_data] Downloading package punkt to /root/nltk_data...\n",
            "[nltk_data]   Package punkt is already up-to-date!\n"
          ],
          "name": "stdout"
        }
      ]
    },
    {
      "cell_type": "code",
      "metadata": {
        "colab": {
          "base_uri": "https://localhost:8080/"
        },
        "id": "d9Q44zZzkZ16",
        "outputId": "0223a069-4116-4972-8662-7433967798c1"
      },
      "source": [
        "for idx, row in enumerate(full_dataset):\r\n",
        "  if idx == 3:\r\n",
        "    print(row)\r\n",
        "    break\r\n",
        "    \r\n",
        "    "
      ],
      "execution_count": 15,
      "outputs": [
        {
          "output_type": "stream",
          "text": [
            "(<tf.Tensor: shape=(), dtype=string, numpy=b'trump obsessed even obamas name coded website images christmas day donald trump announced would back work following day golfing fourth day row former reality show star blasted former president barack obama playing golf trump track outpace number golf games predecessor played updated tracker trump appearances trump properties 71 rounds golf including today pace pass obama first term total july 24 next year pic twitter com 5gemcjqtbh philip bump pbump december 29 2017 makes washington post reporter discovered trump website really weird everything administration bizarre af coding contained reference obama golf unlike obama working fix problem golf course however coding done correctly website donald trump spent several days row golf course coded serve following message event internal server error pic twitter com wiqsqnnzw0 christopher ingraham cingraham december 28 2017that snippet code appears pages footer says paid rnc pic twitter com oazdt126b3 christopher ingraham cingraham december 28 2017it also others noted thread weird code clear would ever actually display knows christopher ingraham cingraham december 28 2017after coding called reference obama deleted update golf error message removed trump gop websites also fixed javascript vs problem still clear messages would actually display since actual 404 presumably 500 page displays different message pic twitter com z7dmyq5smy christopher ingraham cingraham december 29 2017that suggests someone either rnc trump admin sensitive enough trump golf problem make issue go away quickly people noticed idea much love see email exchange led us christopher ingraham cingraham december 29 2017 code f cked best part using assignment operator means bit code never get run look lines errorcode always 404 tw1trsux december 28 2017trump coders code nobody surprised tim peterson timrpeterson december 28 2017donald trump obsessed obama name even coding website played golf photo joe raedle getty images'>, <tf.Tensor: shape=(), dtype=int64, numpy=0>)\n"
          ],
          "name": "stdout"
        }
      ]
    },
    {
      "cell_type": "code",
      "metadata": {
        "id": "S3hIj-EFXTgA",
        "colab": {
          "base_uri": "https://localhost:8080/"
        },
        "outputId": "fea88055-59d8-4ab4-9557-9493debf49a1"
      },
      "source": [
        "!pip install -q tensorflow-text\r\n"
      ],
      "execution_count": 16,
      "outputs": [
        {
          "output_type": "stream",
          "text": [
            "\u001b[K     |████████████████████████████████| 3.4MB 9.2MB/s \n",
            "\u001b[?25h"
          ],
          "name": "stdout"
        }
      ]
    },
    {
      "cell_type": "markdown",
      "metadata": {
        "id": "cmYi8yhdsLpM"
      },
      "source": [
        "### Glove"
      ]
    },
    {
      "cell_type": "markdown",
      "metadata": {
        "id": "23ZxWLI13hWK"
      },
      "source": [
        "**Count max occurences in dataset**"
      ]
    },
    {
      "cell_type": "code",
      "metadata": {
        "id": "Ph19RA42M4GN"
      },
      "source": [
        "from collections import Counter\r\n",
        "\r\n",
        "def freq_words(inputs, max_size=10500): # input dataset, returns list\r\n",
        "  count = Counter()\r\n",
        "\r\n",
        "  numpy_sentences = []\r\n",
        "  for sentences, _ in full_dataset.take(-1):  # take all elements in dataset\r\n",
        "      numpy_sentences.extend(tf.strings.split(sentences).numpy())\r\n",
        "  list_words = numpy_sentences\r\n",
        "\r\n",
        "  for word in list_words:\r\n",
        "    # print(word)\r\n",
        "    count[word] += 1\r\n",
        "  result = [word for word, num in count.most_common(max_size)]\r\n",
        "  return result\r\n",
        "\r\n",
        "max_freq_words = freq_words(full_dataset)"
      ],
      "execution_count": 40,
      "outputs": []
    },
    {
      "cell_type": "code",
      "metadata": {
        "id": "BcUBohUDVMU0"
      },
      "source": [
        "max_freq_words = [w.decode(\"utf-8\") for w in max_freq_words]"
      ],
      "execution_count": 41,
      "outputs": []
    },
    {
      "cell_type": "code",
      "metadata": {
        "colab": {
          "base_uri": "https://localhost:8080/"
        },
        "id": "z11NdJkKZxyw",
        "outputId": "3f1b6880-21cf-4699-f4d8-d8262b25f950"
      },
      "source": [
        "max_freq_words[:10]"
      ],
      "execution_count": 42,
      "outputs": [
        {
          "output_type": "execute_result",
          "data": {
            "text/plain": [
              "['trump',\n",
              " 'said',\n",
              " 'u',\n",
              " 'president',\n",
              " 'would',\n",
              " 'people',\n",
              " 'one',\n",
              " 'state',\n",
              " 'new',\n",
              " 'also']"
            ]
          },
          "metadata": {
            "tags": []
          },
          "execution_count": 42
        }
      ]
    },
    {
      "cell_type": "markdown",
      "metadata": {
        "id": "G9LYaDiML_fj"
      },
      "source": [
        "**Find this occurences in the pretrained glove file**"
      ]
    },
    {
      "cell_type": "code",
      "metadata": {
        "id": "L7DysO8KL-1N",
        "colab": {
          "base_uri": "https://localhost:8080/"
        },
        "outputId": "a0c2a2c7-5006-4e66-fe23-51d2ad50fc18"
      },
      "source": [
        "from tensorflow.keras.layers.experimental.preprocessing import TextVectorization\r\n",
        "# Build vocabulary and relevent vector\r\n",
        "words = []\r\n",
        "# Adding 2 empty vector of dimension 100 which will be used in padding and unknown token(word)\r\n",
        "# Added extra 2 rows because when we will use inside TextVectorization add blank i.e. '' and ['UNK'] inside vocabulary\r\n",
        "\r\n",
        "counter = 0\r\n",
        "\r\n",
        "vectors = np.zeros((10000, 100))\r\n",
        "\r\n",
        "with open(f\"../glove-twitter/glove.twitter.27B.100d.txt\") as f:\r\n",
        "    lines = f.readlines()\r\n",
        "\r\n",
        "    for idx, line in enumerate(lines):\r\n",
        "      if counter >= 10000-2:\r\n",
        "        break\r\n",
        "\r\n",
        "      split_line = line.split()\r\n",
        "      \r\n",
        "      if split_line[0] in max_freq_words:\r\n",
        "        words.append(split_line[0])\r\n",
        "        vectors[counter+2] = split_line[1:]\r\n",
        "        counter+=1\r\n",
        "\r\n",
        "print(f\"Number of words are {len(words)}\")\r\n",
        "print(f\"Shape of vector is {vectors.shape}\")"
      ],
      "execution_count": 43,
      "outputs": [
        {
          "output_type": "stream",
          "text": [
            "Number of words are 9998\n",
            "Shape of vector is (10000, 100)\n"
          ],
          "name": "stdout"
        }
      ]
    },
    {
      "cell_type": "code",
      "metadata": {
        "colab": {
          "base_uri": "https://localhost:8080/"
        },
        "id": "owibnaA1NFuG",
        "outputId": "4b1240d9-605a-4a14-8662-d888e8bca69d"
      },
      "source": [
        "vectors[:3]"
      ],
      "execution_count": 44,
      "outputs": [
        {
          "output_type": "execute_result",
          "data": {
            "text/plain": [
              "array([[ 0.       ,  0.       ,  0.       ,  0.       ,  0.       ,\n",
              "         0.       ,  0.       ,  0.       ,  0.       ,  0.       ,\n",
              "         0.       ,  0.       ,  0.       ,  0.       ,  0.       ,\n",
              "         0.       ,  0.       ,  0.       ,  0.       ,  0.       ,\n",
              "         0.       ,  0.       ,  0.       ,  0.       ,  0.       ,\n",
              "         0.       ,  0.       ,  0.       ,  0.       ,  0.       ,\n",
              "         0.       ,  0.       ,  0.       ,  0.       ,  0.       ,\n",
              "         0.       ,  0.       ,  0.       ,  0.       ,  0.       ,\n",
              "         0.       ,  0.       ,  0.       ,  0.       ,  0.       ,\n",
              "         0.       ,  0.       ,  0.       ,  0.       ,  0.       ,\n",
              "         0.       ,  0.       ,  0.       ,  0.       ,  0.       ,\n",
              "         0.       ,  0.       ,  0.       ,  0.       ,  0.       ,\n",
              "         0.       ,  0.       ,  0.       ,  0.       ,  0.       ,\n",
              "         0.       ,  0.       ,  0.       ,  0.       ,  0.       ,\n",
              "         0.       ,  0.       ,  0.       ,  0.       ,  0.       ,\n",
              "         0.       ,  0.       ,  0.       ,  0.       ,  0.       ,\n",
              "         0.       ,  0.       ,  0.       ,  0.       ,  0.       ,\n",
              "         0.       ,  0.       ,  0.       ,  0.       ,  0.       ,\n",
              "         0.       ,  0.       ,  0.       ,  0.       ,  0.       ,\n",
              "         0.       ,  0.       ,  0.       ,  0.       ,  0.       ],\n",
              "       [ 0.       ,  0.       ,  0.       ,  0.       ,  0.       ,\n",
              "         0.       ,  0.       ,  0.       ,  0.       ,  0.       ,\n",
              "         0.       ,  0.       ,  0.       ,  0.       ,  0.       ,\n",
              "         0.       ,  0.       ,  0.       ,  0.       ,  0.       ,\n",
              "         0.       ,  0.       ,  0.       ,  0.       ,  0.       ,\n",
              "         0.       ,  0.       ,  0.       ,  0.       ,  0.       ,\n",
              "         0.       ,  0.       ,  0.       ,  0.       ,  0.       ,\n",
              "         0.       ,  0.       ,  0.       ,  0.       ,  0.       ,\n",
              "         0.       ,  0.       ,  0.       ,  0.       ,  0.       ,\n",
              "         0.       ,  0.       ,  0.       ,  0.       ,  0.       ,\n",
              "         0.       ,  0.       ,  0.       ,  0.       ,  0.       ,\n",
              "         0.       ,  0.       ,  0.       ,  0.       ,  0.       ,\n",
              "         0.       ,  0.       ,  0.       ,  0.       ,  0.       ,\n",
              "         0.       ,  0.       ,  0.       ,  0.       ,  0.       ,\n",
              "         0.       ,  0.       ,  0.       ,  0.       ,  0.       ,\n",
              "         0.       ,  0.       ,  0.       ,  0.       ,  0.       ,\n",
              "         0.       ,  0.       ,  0.       ,  0.       ,  0.       ,\n",
              "         0.       ,  0.       ,  0.       ,  0.       ,  0.       ,\n",
              "         0.       ,  0.       ,  0.       ,  0.       ,  0.       ,\n",
              "         0.       ,  0.       ,  0.       ,  0.       ,  0.       ],\n",
              "       [ 0.6047   ,  0.89542  ,  0.27923  ,  0.033489 ,  0.15873  ,\n",
              "         0.18522  ,  0.30722  ,  0.47445  ,  0.44484  ,  0.7045   ,\n",
              "         0.39528  , -0.19818  , -2.3884   ,  0.095433 ,  0.10782  ,\n",
              "         0.26263  ,  0.36582  , -0.6385   , -0.22938  , -0.34722  ,\n",
              "         0.10977  ,  0.37367  , -0.068053 , -0.39421  ,  0.43471  ,\n",
              "        -2.1794   , -0.47111  ,  0.087237 ,  0.57989  , -0.020883 ,\n",
              "        -0.0695   ,  0.25771  , -0.5019   ,  0.41154  ,  1.2178   ,\n",
              "         0.47976  , -0.31574  ,  0.52983  ,  0.041575 ,  0.44973  ,\n",
              "        -1.5363   , -0.096062 , -0.27531  ,  0.52771  ,  0.028587 ,\n",
              "         0.047935 , -0.5973   , -0.051772 ,  0.11377  , -0.4049   ,\n",
              "        -0.54857  , -0.65916  , -0.38132  , -0.39519  ,  0.42961  ,\n",
              "         0.74531  , -0.50838  ,  0.40392  ,  0.62699  , -0.24798  ,\n",
              "        -0.25386  ,  0.21867  , -0.072132 , -0.51783  , -0.054186 ,\n",
              "        -0.66391  , -0.58224  ,  0.060621 , -0.54001  ,  0.72242  ,\n",
              "         0.13349  , -0.070261 , -0.059061 , -0.035474 , -0.53649  ,\n",
              "        -0.3755   ,  0.11234  , -0.3409   , -0.13406  ,  0.0078872,\n",
              "         0.81973  , -0.075774 ,  0.10947  ,  0.26919  , -0.069167 ,\n",
              "         0.27475  , -0.90546  ,  0.54632  , -0.6847   ,  0.35787  ,\n",
              "        -0.015019 ,  0.42209  , -0.06252  , -0.33265  , -0.60945  ,\n",
              "        -0.23269  , -0.40932  ,  0.51566  ,  0.84726  ,  0.020946 ]])"
            ]
          },
          "metadata": {
            "tags": []
          },
          "execution_count": 44
        }
      ]
    },
    {
      "cell_type": "code",
      "metadata": {
        "colab": {
          "base_uri": "https://localhost:8080/"
        },
        "id": "p7lBhvDzV4i-",
        "outputId": "49032f3d-b617-4f9b-caa7-e77b6f7b5a41"
      },
      "source": [
        "words[1120:1130]"
      ],
      "execution_count": 45,
      "outputs": [
        {
          "output_type": "execute_result",
          "data": {
            "text/plain": [
              "['dire',\n",
              " 'available',\n",
              " 'code',\n",
              " 'ryan',\n",
              " 'shake',\n",
              " 'gas',\n",
              " 'gt',\n",
              " 'handle',\n",
              " 'putting',\n",
              " 'mario']"
            ]
          },
          "metadata": {
            "tags": []
          },
          "execution_count": 45
        }
      ]
    },
    {
      "cell_type": "code",
      "metadata": {
        "colab": {
          "base_uri": "https://localhost:8080/"
        },
        "id": "k4XMjb7SsKCt",
        "outputId": "485c1a9c-cfa4-4332-8ee5-f59e6d85986d"
      },
      "source": [
        "from tensorflow.keras.layers.experimental.preprocessing import TextVectorization\r\n",
        "# TextVectorization hyper parameter\r\n",
        "max_vocab = 10000\r\n",
        "max_len = 300\r\n",
        "vectorize_layer_glove = TextVectorization(max_tokens=max_vocab,\r\n",
        "                                                    standardize=\"lower_and_strip_punctuation\",\r\n",
        "                                                    split=\"whitespace\",\r\n",
        "                                                    output_mode=\"int\",\r\n",
        "                                                    output_sequence_length=max_len,\r\n",
        "                                                    vocabulary=words)\r\n",
        "\r\n",
        "\r\n",
        "# Vocabulary set into layer\r\n",
        "vectorize_layer_glove.set_vocabulary(words)\r\n",
        "print(f\"Top 10 words {vectorize_layer_glove.get_vocabulary()[:10]}\")\r\n",
        "print(f\"Some words {vectorize_layer_glove.get_vocabulary()[-1010:-1000]} \\n\")"
      ],
      "execution_count": 46,
      "outputs": [
        {
          "output_type": "stream",
          "text": [
            "Top 10 words ['', '[UNK]', 'rt', 'de', 'n', 'la', 'e', 'u', 'en', 'el']\n",
            "Some words ['fec', 'migrant', 'provocation', 'identifies', 'prolonged', 'manus', 'autonomy', 'clad', 'classification', 'sectors'] \n",
            "\n"
          ],
          "name": "stdout"
        }
      ]
    },
    {
      "cell_type": "code",
      "metadata": {
        "id": "w77OJDFFsUDN"
      },
      "source": [
        "def int_vectorize_text(text, label):\r\n",
        "  text = tf.expand_dims(text, -1)\r\n",
        "  return vectorize_layer_glove(text), label\r\n",
        "\r\n",
        "train_data_tokenized = full_dataset.map(int_vectorize_text)"
      ],
      "execution_count": 47,
      "outputs": []
    },
    {
      "cell_type": "code",
      "metadata": {
        "colab": {
          "base_uri": "https://localhost:8080/"
        },
        "id": "sikwvvb3BJka",
        "outputId": "65bcbe76-4f1e-48e6-80ea-7d805010857a"
      },
      "source": [
        "model_glove = tf.keras.models.Sequential()\r\n",
        "model_glove.add(tf.keras.layers.Input(shape=(1,), dtype=tf.string))\r\n",
        "model_glove.add(vectorize_layer_glove)\r\n",
        "model_glove.predict([\"expect terror fbi steps use isis stings 21st century wire says real terrorist threat thing ...\"])"
      ],
      "execution_count": 49,
      "outputs": [
        {
          "output_type": "execute_result",
          "data": {
            "text/plain": [
              "array([[ 944, 2670, 3911, 2360,  296, 6331,    1,    1, 3467, 4046,  333,\n",
              "         105, 4255, 3693,  155,    0,    0,    0,    0,    0,    0,    0,\n",
              "           0,    0,    0,    0,    0,    0,    0,    0,    0,    0,    0,\n",
              "           0,    0,    0,    0,    0,    0,    0,    0,    0,    0,    0,\n",
              "           0,    0,    0,    0,    0,    0,    0,    0,    0,    0,    0,\n",
              "           0,    0,    0,    0,    0,    0,    0,    0,    0,    0,    0,\n",
              "           0,    0,    0,    0,    0,    0,    0,    0,    0,    0,    0,\n",
              "           0,    0,    0,    0,    0,    0,    0,    0,    0,    0,    0,\n",
              "           0,    0,    0,    0,    0,    0,    0,    0,    0,    0,    0,\n",
              "           0,    0,    0,    0,    0,    0,    0,    0,    0,    0,    0,\n",
              "           0,    0,    0,    0,    0,    0,    0,    0,    0,    0,    0,\n",
              "           0,    0,    0,    0,    0,    0,    0,    0,    0,    0,    0,\n",
              "           0,    0,    0,    0,    0,    0,    0,    0,    0,    0,    0,\n",
              "           0,    0,    0,    0,    0,    0,    0,    0,    0,    0,    0,\n",
              "           0,    0,    0,    0,    0,    0,    0,    0,    0,    0,    0,\n",
              "           0,    0,    0,    0,    0,    0,    0,    0,    0,    0,    0,\n",
              "           0,    0,    0,    0,    0,    0,    0,    0,    0,    0,    0,\n",
              "           0,    0,    0,    0,    0,    0,    0,    0,    0,    0,    0,\n",
              "           0,    0,    0,    0,    0,    0,    0,    0,    0,    0,    0,\n",
              "           0,    0,    0,    0,    0,    0,    0,    0,    0,    0,    0,\n",
              "           0,    0,    0,    0,    0,    0,    0,    0,    0,    0,    0,\n",
              "           0,    0,    0,    0,    0,    0,    0,    0,    0,    0,    0,\n",
              "           0,    0,    0,    0,    0,    0,    0,    0,    0,    0,    0,\n",
              "           0,    0,    0,    0,    0,    0,    0,    0,    0,    0,    0,\n",
              "           0,    0,    0,    0,    0,    0,    0,    0,    0,    0,    0,\n",
              "           0,    0,    0,    0,    0,    0,    0,    0,    0,    0,    0,\n",
              "           0,    0,    0,    0,    0,    0,    0,    0,    0,    0,    0,\n",
              "           0,    0,    0]])"
            ]
          },
          "metadata": {
            "tags": []
          },
          "execution_count": 49
        }
      ]
    },
    {
      "cell_type": "code",
      "metadata": {
        "id": "YxjpD0rI0XPj",
        "colab": {
          "base_uri": "https://localhost:8080/"
        },
        "outputId": "f1565cd8-5270-4867-e54b-d247f132e9c4"
      },
      "source": [
        "for idx, row in enumerate(train_data_tokenized):\r\n",
        "  if idx == 1:\r\n",
        "    print(row)\r\n",
        "    break"
      ],
      "execution_count": 50,
      "outputs": [
        {
          "output_type": "stream",
          "text": [
            "(<tf.Tensor: shape=(1, 300), dtype=int64, numpy=\n",
            "array([[ 618, 5639, 5604, 9205,  535, 2885, 9481, 4992,  209, 3438, 4647,\n",
            "        5234, 5306, 7651,   66,  131,   28, 7473,   10,  216,   96, 3953,\n",
            "        7436, 6671, 9081, 2248, 4992, 9247, 3771, 1981, 3911,  754, 1998,\n",
            "        5604,  725, 6671,  535, 4992, 2119, 5933, 7966,   27,  937,  307,\n",
            "        2249, 5604, 2176, 7482, 1378, 9623,  618, 1312,  810, 3930, 2532,\n",
            "        2885, 4663, 2131, 5015, 3749,  240, 9623,    1,  237, 5604, 4911,\n",
            "        5845,   60, 5607, 1707, 1142, 9304,    1, 1242, 1312,  810,  812,\n",
            "         294,  195, 6061,   27,  937, 1094, 5604, 1075, 8458, 9047,    9,\n",
            "        1941, 2331,  223,  691, 2806, 1456, 2249, 5737,  444, 4794,  137,\n",
            "        2945, 5604,  103, 5604, 1382, 5593,  812,  237,  203,    1, 9623,\n",
            "        3930, 3383, 7773, 4088,    1, 2885, 4078,  672,  227,  981, 3258,\n",
            "        5578, 4131, 6767, 5015, 3749,  678,   60, 1091, 9623,  152,   71,\n",
            "           1, 1312, 4035, 3383, 4088,    1, 8271, 1150, 2021,  223,  691,\n",
            "         491, 3851, 5578, 3932, 4349, 6727,  399, 3383, 4078, 1636, 1952,\n",
            "        1091, 9623,  825, 9113, 2119, 1137, 1803, 2249,  825, 2838, 4078,\n",
            "        1705, 2532,    1, 1707, 9623, 9124, 2301, 1172,  119,   13, 8928,\n",
            "        3921,  500, 7718, 1911, 8463,  103, 6976, 2477, 7839, 1271,  290,\n",
            "         154,  115,  188,    1, 7519, 2984,    0,    0,    0,    0,    0,\n",
            "           0,    0,    0,    0,    0,    0,    0,    0,    0,    0,    0,\n",
            "           0,    0,    0,    0,    0,    0,    0,    0,    0,    0,    0,\n",
            "           0,    0,    0,    0,    0,    0,    0,    0,    0,    0,    0,\n",
            "           0,    0,    0,    0,    0,    0,    0,    0,    0,    0,    0,\n",
            "           0,    0,    0,    0,    0,    0,    0,    0,    0,    0,    0,\n",
            "           0,    0,    0,    0,    0,    0,    0,    0,    0,    0,    0,\n",
            "           0,    0,    0,    0,    0,    0,    0,    0,    0,    0,    0,\n",
            "           0,    0,    0,    0,    0,    0,    0,    0,    0,    0,    0,\n",
            "           0,    0,    0,    0,    0,    0,    0,    0,    0,    0,    0,\n",
            "           0,    0,    0]])>, <tf.Tensor: shape=(), dtype=int64, numpy=0>)\n"
          ],
          "name": "stdout"
        }
      ]
    },
    {
      "cell_type": "code",
      "metadata": {
        "colab": {
          "base_uri": "https://localhost:8080/"
        },
        "id": "jDFp_AiVng2R",
        "outputId": "94501d44-a6b5-42c2-87e6-c108e08c9b74"
      },
      "source": [
        "len(vectors[0])"
      ],
      "execution_count": 51,
      "outputs": [
        {
          "output_type": "execute_result",
          "data": {
            "text/plain": [
              "100"
            ]
          },
          "metadata": {
            "tags": []
          },
          "execution_count": 51
        }
      ]
    },
    {
      "cell_type": "markdown",
      "metadata": {
        "id": "qN27WAForl3F"
      },
      "source": [
        "### Prepare data to train"
      ]
    },
    {
      "cell_type": "code",
      "metadata": {
        "id": "dZXYqxoVro8W"
      },
      "source": [
        "# Model params\r\n",
        "batch_size = 256\r\n",
        "epochs = 10\r\n",
        "embed_size = 100\r\n",
        "maxlen = 300\r\n",
        "max_features = 10000"
      ],
      "execution_count": 52,
      "outputs": []
    },
    {
      "cell_type": "markdown",
      "metadata": {
        "id": "GvWBijprsD2Q"
      },
      "source": [
        "**Model**"
      ]
    },
    {
      "cell_type": "code",
      "metadata": {
        "id": "8O1u2Wj8sDHn"
      },
      "source": [
        "#Defining Neural Network\r\n",
        "model = Sequential()\r\n",
        "#Non-trainable embeddidng layer\r\n",
        "model.add(Embedding(max_features, output_dim=embed_size, weights=[vectors], input_length=maxlen, trainable=False))\r\n",
        "#LSTM \r\n",
        "model.add(LSTM(units=128 , return_sequences = True))\r\n",
        "model.add(LSTM(units=64))\r\n",
        "model.add(Dense(units = 32 , activation = 'relu'))\r\n",
        "model.add(Dense(1, activation='sigmoid'))\r\n",
        "model.compile(optimizer=keras.optimizers.Adam(lr = 0.01), loss='binary_crossentropy', metrics=['accuracy'])\r\n",
        "\r\n",
        "learning_rate_reduction = ReduceLROnPlateau(monitor='val_accuracy', patience = 2, verbose=1,factor=0.5, min_lr=0.00001)\r\n"
      ],
      "execution_count": 53,
      "outputs": []
    },
    {
      "cell_type": "code",
      "metadata": {
        "colab": {
          "base_uri": "https://localhost:8080/"
        },
        "id": "vGfBpf3uubNM",
        "outputId": "c41989f1-eb5b-4df4-d745-00f3a23d86e8"
      },
      "source": [
        "model.summary()"
      ],
      "execution_count": 54,
      "outputs": [
        {
          "output_type": "stream",
          "text": [
            "Model: \"sequential_4\"\n",
            "_________________________________________________________________\n",
            "Layer (type)                 Output Shape              Param #   \n",
            "=================================================================\n",
            "embedding_1 (Embedding)      (None, 300, 100)          1000000   \n",
            "_________________________________________________________________\n",
            "lstm_2 (LSTM)                (None, 300, 128)          117248    \n",
            "_________________________________________________________________\n",
            "lstm_3 (LSTM)                (None, 64)                49408     \n",
            "_________________________________________________________________\n",
            "dense_2 (Dense)              (None, 32)                2080      \n",
            "_________________________________________________________________\n",
            "dense_3 (Dense)              (None, 1)                 33        \n",
            "=================================================================\n",
            "Total params: 1,168,769\n",
            "Trainable params: 168,769\n",
            "Non-trainable params: 1,000,000\n",
            "_________________________________________________________________\n"
          ],
          "name": "stdout"
        }
      ]
    },
    {
      "cell_type": "markdown",
      "metadata": {
        "id": "hxEGtL-85NSD"
      },
      "source": [
        "### TODO : add validation dataset and shuffle data"
      ]
    },
    {
      "cell_type": "code",
      "metadata": {
        "id": "7Vo1h89w1sJK"
      },
      "source": [
        "full_dataset = train_data_tokenized.map(lambda x_text, x_label: (x_text, tf.expand_dims(x_label, -1)))"
      ],
      "execution_count": 55,
      "outputs": []
    },
    {
      "cell_type": "code",
      "metadata": {
        "colab": {
          "base_uri": "https://localhost:8080/"
        },
        "id": "3nS4VRMxqoDJ",
        "outputId": "34edf909-d4db-4780-94af-27831a8920e7"
      },
      "source": [
        "len(list(full_dataset))"
      ],
      "execution_count": 56,
      "outputs": [
        {
          "output_type": "execute_result",
          "data": {
            "text/plain": [
              "44898"
            ]
          },
          "metadata": {
            "tags": []
          },
          "execution_count": 56
        }
      ]
    },
    {
      "cell_type": "code",
      "metadata": {
        "id": "BFUf2MV8obfi"
      },
      "source": [
        "DATASET_SIZE = len(list(full_dataset))\r\n",
        "\r\n",
        "train_size = int(0.8 * DATASET_SIZE)\r\n",
        "test_size = int(0.2 * DATASET_SIZE)\r\n",
        "\r\n",
        "full_dataset = full_dataset.shuffle(buffer_size=DATASET_SIZE, seed=42)\r\n",
        "train_dataset = full_dataset.take(train_size)\r\n",
        "test_dataset = full_dataset.skip(train_size)"
      ],
      "execution_count": 57,
      "outputs": []
    },
    {
      "cell_type": "code",
      "metadata": {
        "id": "9cJWKSxH1ypE",
        "colab": {
          "base_uri": "https://localhost:8080/"
        },
        "outputId": "df2b0f6e-f6a3-45b6-c56a-d81b27fd56c6"
      },
      "source": [
        "for idx, row in enumerate(train_dataset):\r\n",
        "  if idx == 1:\r\n",
        "    print(row)\r\n",
        "    break"
      ],
      "execution_count": 58,
      "outputs": [
        {
          "output_type": "stream",
          "text": [
            "(<tf.Tensor: shape=(1, 300), dtype=int64, numpy=\n",
            "array([[5604,  326, 3903, 6114, 2248, 4992,   10, 7512,    1, 3962, 5604,\n",
            "         693, 6979,   60,   56,   25,   33, 5604,  158,  796,  474, 2283,\n",
            "         240, 1269, 6360, 5360,  111,  740, 6289,  398, 3783, 2106, 2914,\n",
            "        5067,  796, 3783, 4186,  339,  194,   56, 1944, 5604, 2561,   63,\n",
            "        2718, 2175,   63,  398, 5604, 1747, 6114, 2248, 4992, 9027, 1981,\n",
            "        4992, 2344,  500, 8268, 1911, 8463, 5604, 2321, 1652, 5683, 8519,\n",
            "           1, 3649,  532,  564,  303,  125, 5604, 8884, 2217,    1,  691,\n",
            "        8433, 4647, 8574, 9481, 6899,  387,  724,  154, 2235,  334, 3962,\n",
            "         276, 5604,    1, 1279,    1,    1,  520,  244,  564, 1714,  296,\n",
            "        1156, 2303,  532,  564,    1,  680,   30,   22,  227, 3962,  276,\n",
            "        5604,    1, 1279,    1,    1, 6060, 4331, 3078,   66,  785, 3887,\n",
            "         772, 1925,  124, 7146,   85,  772, 5889,   85, 3962,  276, 5604,\n",
            "           1, 1279,    1,    1, 7903, 5683, 3911, 2327,   78,  332,  587,\n",
            "        3911, 2327, 4331, 3078, 3962,  276, 5604,    1, 1279,    1,    1,\n",
            "        5604, 3207, 2574, 3513, 2248, 9870,    1, 2806, 2176,    1,   74,\n",
            "        5604,  704, 2885, 5698,   22, 5015, 3749, 3932, 9103, 3887,  772,\n",
            "        1925,  124, 5604,   69,    1, 3887, 5521, 1075,  568, 5521, 2285,\n",
            "        1022,   91,    1, 5604,  373, 5097,  270,   89,   67,    1,   30,\n",
            "           1, 2840,  106, 4155,  208,  177, 2391,  654,   67, 1770, 8505,\n",
            "        3903, 5604,  112, 2235,   49,  213,  781,  984,  270,    1,    1,\n",
            "           1, 1279,    1,    1, 6977, 7546, 4442, 2248, 7288, 7122,  208,\n",
            "          25, 3513,    1,    1,    1, 1279,    1,    1,    1,  756,  444,\n",
            "         839,  503, 1705, 3418, 6899,  208,   25, 3513,    1,    1,    1,\n",
            "        1279,    1,    1,  245,   72, 6899, 2176, 1991, 6690,  208, 2303,\n",
            "        3513,    1,    1,    1, 1279,    1,    1, 2071, 6053,  411, 2885,\n",
            "         252, 2176, 5234,  208,   25, 3513,    1,    1,    1, 1279,    1,\n",
            "           1, 6899,  907, 7994, 3478, 6475,   49,   49, 2303, 3513,    1,\n",
            "           1,    1, 1279]])>, <tf.Tensor: shape=(1,), dtype=int64, numpy=array([0])>)\n"
          ],
          "name": "stdout"
        }
      ]
    },
    {
      "cell_type": "code",
      "metadata": {
        "colab": {
          "base_uri": "https://localhost:8080/"
        },
        "id": "KnmpSJ4ifSRp",
        "outputId": "a7e7c360-b706-46ae-f517-a1e3d1fef89d"
      },
      "source": [
        "from tensorflow.python.client import device_lib\r\n",
        "print(device_lib.list_local_devices())"
      ],
      "execution_count": 59,
      "outputs": [
        {
          "output_type": "stream",
          "text": [
            "[name: \"/device:CPU:0\"\n",
            "device_type: \"CPU\"\n",
            "memory_limit: 268435456\n",
            "locality {\n",
            "}\n",
            "incarnation: 11152789302019538413\n",
            ", name: \"/device:GPU:0\"\n",
            "device_type: \"GPU\"\n",
            "memory_limit: 14674281152\n",
            "locality {\n",
            "  bus_id: 1\n",
            "  links {\n",
            "  }\n",
            "}\n",
            "incarnation: 8051534296310860513\n",
            "physical_device_desc: \"device: 0, name: Tesla T4, pci bus id: 0000:00:04.0, compute capability: 7.5\"\n",
            "]\n"
          ],
          "name": "stdout"
        }
      ]
    },
    {
      "cell_type": "code",
      "metadata": {
        "id": "NfFXyCLUO7c5"
      },
      "source": [
        "# Train for 2 epochs\r\n",
        "model.fit(train_dataset, batch_size = batch_size, validation_data=test_dataset, epochs=2, steps_per_epoch=20000)"
      ],
      "execution_count": null,
      "outputs": []
    }
  ]
}